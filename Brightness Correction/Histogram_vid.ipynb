{
 "cells": [
  {
   "cell_type": "code",
   "execution_count": 1,
   "id": "79739c17",
   "metadata": {},
   "outputs": [],
   "source": [
    "%matplotlib inline\n",
    "import cv2 # The OpenCV library; install using `pip install opencv-contrib-python`\n",
    "import numpy as np # Helpful when working with arrays; install using `pip install numpy`\n",
    "from matplotlib import pyplot as plot # Good for graphing; install using `pip install matplotlib`\n",
    "from matplotlib import image as image\n",
    "import easygui # An easy-to-use file-picker; pip install easygui"
   ]
  },
  {
   "cell_type": "code",
   "execution_count": null,
   "id": "b4b762e8",
   "metadata": {},
   "outputs": [],
   "source": [
    "# Video capture from a file:\n",
    "Video = cv2.VideoCapture(\"../Films/Zorro.mp4\")\n",
    "(check, I) = Video.read()\n",
    "while check:  \n",
    "    \n",
    "    G = cv2.cvtColor(I, cv2.COLOR_BGR2GRAY)\n",
    "    G_crop = G[0:480,100:750]\n",
    "    H = cv2.equalizeHist(G)\n",
    "    \n",
    "    cv2.imshow(\"image\", G)\n",
    "    cv2.imshow(\"equ\", H)\n",
    "\n",
    "    # This delays for 1ms while waiting for a key to be pressed\n",
    "    key = cv2.waitKey(24)\n",
    "\n",
    "    # if the 'q' keqy is pressed, quit:\n",
    "    if key == ord(\"q\"):\n",
    "         break\n",
    "\n",
    "    # Next Frame:\n",
    "    (check, I) = Video.read()\n",
    "\n",
    "Video.release()\n",
    "cv2.destroyAllWindows()"
   ]
  },
  {
   "cell_type": "code",
   "execution_count": null,
   "id": "2d7805f8",
   "metadata": {},
   "outputs": [],
   "source": []
  }
 ],
 "metadata": {
  "kernelspec": {
   "display_name": "Python 3 (ipykernel)",
   "language": "python",
   "name": "python3"
  },
  "language_info": {
   "codemirror_mode": {
    "name": "ipython",
    "version": 3
   },
   "file_extension": ".py",
   "mimetype": "text/x-python",
   "name": "python",
   "nbconvert_exporter": "python",
   "pygments_lexer": "ipython3",
   "version": "3.11.1"
  }
 },
 "nbformat": 4,
 "nbformat_minor": 5
}
